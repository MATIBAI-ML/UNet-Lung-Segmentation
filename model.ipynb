{
 "cells": [
  {
   "cell_type": "code",
   "execution_count": 1,
   "metadata": {},
   "outputs": [
    {
     "name": "stderr",
     "output_type": "stream",
     "text": [
      "/Users/tyronemariano/Library/Python/3.9/lib/python/site-packages/urllib3/__init__.py:35: NotOpenSSLWarning: urllib3 v2 only supports OpenSSL 1.1.1+, currently the 'ssl' module is compiled with 'LibreSSL 2.8.3'. See: https://github.com/urllib3/urllib3/issues/3020\n",
      "  warnings.warn(\n"
     ]
    }
   ],
   "source": [
    "import tensorflow as tf\n",
    "from tensorflow.keras.layers import *\n",
    "from tensorflow.keras.models import Model"
   ]
  },
  {
   "cell_type": "code",
   "execution_count": null,
   "metadata": {},
   "outputs": [],
   "source": [
    "def conv_block(x, num_filters):\n",
    "    x = Conv2D(num_filters, (3,3), padding=\"same\")(x)\n",
    "    x = BatchNormalization()(x)\n",
    "    x = Activation(\"relu\")(x)\n",
    "    \n",
    "    x = Conv2D(num_filters, (3,3), padding=\"same\")(x)\n",
    "    x = BatchNormalization()(x)\n",
    "    x = Activation(\"relu\")(x)\n",
    "    \n",
    "    return x"
   ]
  },
  {
   "cell_type": "code",
   "execution_count": null,
   "metadata": {},
   "outputs": [],
   "source": [
    "def build_model(shape):\n",
    "    num_filters = [64, 128, 256, 512]\n",
    "    inputs = Input((shape))\n",
    "    \n",
    "    skip_x = []\n",
    "    x = inputs\n",
    "    \n",
    "    for f in num_filters:\n",
    "        x = conv_block(x,f)\n",
    "        skip_x.append(x)\n",
    "        x = MaxPool2D((2,2))(x)\n",
    "        \n",
    "    x = conv_block(x, 1024)\n",
    "    \n",
    "    num_filters.reverse()\n",
    "    skip_x.reverse()\n",
    "    \n",
    "    for i, f in enumerate(num_filters):\n",
    "        x = UpSampling2D((2,2))(x)\n",
    "        xs = skip_x[i]\n",
    "        x = concatenate()([x, xs])\n",
    "        x = conv_block(x, f)\n",
    "        \n",
    "    x = Conv2D(1, (1,1), padding=\"same\")(x)\n",
    "    x = Activation(\"sigmoid\")(x)"
   ]
  }
 ],
 "metadata": {
  "kernelspec": {
   "display_name": "Python 3",
   "language": "python",
   "name": "python3"
  },
  "language_info": {
   "codemirror_mode": {
    "name": "ipython",
    "version": 3
   },
   "file_extension": ".py",
   "mimetype": "text/x-python",
   "name": "python",
   "nbconvert_exporter": "python",
   "pygments_lexer": "ipython3",
   "version": "3.9.6"
  }
 },
 "nbformat": 4,
 "nbformat_minor": 2
}
