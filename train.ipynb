{
 "cells": [
  {
   "cell_type": "code",
   "execution_count": 2,
   "metadata": {},
   "outputs": [],
   "source": [
    "import  numpy as np\n",
    "import tensorflow as tf\n",
    "from model import build_model\n",
    "from keras.callbacks import ModelCheckpoint, ReduceLROnPlateau, EarlyStopping"
   ]
  },
  {
   "cell_type": "code",
   "execution_count": null,
   "metadata": {},
   "outputs": [],
   "source": [
    "allImagesNp = np.load(\"folder\\Unet-Train-Lung-Images.npy\")\n",
    "maskImagesNp = np.load(\"folder\\Unet-Train-Lung-Masks.npy\")\n",
    "\n",
    "allValidateImagesNP = np.load(\"folder\\Unet-Validate-Lung-Images.npy\")\n",
    "maskValidateImagesNP = np.load(\"folder\\Unet-Validate-Lung-Masks.npy\")"
   ]
  },
  {
   "cell_type": "code",
   "execution_count": null,
   "metadata": {},
   "outputs": [],
   "source": [
    "print(allImagesNp.shape)\n",
    "print(maskImagesNp.shape)\n",
    "print(allValidateImagesNP.shape)\n",
    "print(maskValidateImagesNP.shape)"
   ]
  },
  {
   "cell_type": "code",
   "execution_count": null,
   "metadata": {},
   "outputs": [],
   "source": [
    "height = 256\n",
    "width = 256"
   ]
  },
  {
   "cell_type": "code",
   "execution_count": null,
   "metadata": {},
   "outputs": [],
   "source": [
    "shape = (256, 256, 3)\n",
    "lr = 1e-4\n",
    "batchSize = 4\n",
    "epochs = 50"
   ]
  },
  {
   "cell_type": "code",
   "execution_count": null,
   "metadata": {},
   "outputs": [],
   "source": [
    "model = build_model(shape)\n",
    "print(model.summary())"
   ]
  },
  {
   "cell_type": "code",
   "execution_count": null,
   "metadata": {},
   "outputs": [],
   "source": [
    "opt = tf.keras.optimizers.Adam(lr)"
   ]
  },
  {
   "cell_type": "code",
   "execution_count": null,
   "metadata": {},
   "outputs": [],
   "source": [
    "stepsPerEpoch = np.ceil(len(allImagesNp)/batchSize)\n",
    "validationSteps = np.ceil(len(allValidateImagesNP)/batchSize)"
   ]
  },
  {
   "cell_type": "code",
   "execution_count": null,
   "metadata": {},
   "outputs": [],
   "source": [
    "best_model_file = \"temp\\lung-Unet.h5\""
   ]
  },
  {
   "cell_type": "code",
   "execution_count": null,
   "metadata": {},
   "outputs": [],
   "source": [
    "callbacks = [ModelCheckpoint(best_model_file, verbose=1, save_best_only=True),\n",
    "             ReduceLROnPlateau(monitor='val_loss', patience=5, factor=0.1, verbose=1, min_lr=1e-7),\n",
    "             EarlyStopping(monitor='val_accuracy', patience=20, verbose=1)]"
   ]
  },
  {
   "cell_type": "code",
   "execution_count": null,
   "metadata": {},
   "outputs": [],
   "source": [
    "history = model.fit(allImagesNp, maskImagesNp,\n",
    "                    batch_size = batchSize,\n",
    "                    epochs = epochs,\n",
    "                    verbose =1,\n",
    "                    validation_data = (allValidateImagesNP, maskValidateImagesNP),\n",
    "                    validation_steps = validationSteps,\n",
    "                    steps_per_epoch = stepsPerEpoch,\n",
    "                    shuffle = True,\n",
    "                    callbacks = callbacks)"
   ]
  }
 ],
 "metadata": {
  "kernelspec": {
   "display_name": "Python 3",
   "language": "python",
   "name": "python3"
  },
  "language_info": {
   "codemirror_mode": {
    "name": "ipython",
    "version": 3
   },
   "file_extension": ".py",
   "mimetype": "text/x-python",
   "name": "python",
   "nbconvert_exporter": "python",
   "pygments_lexer": "ipython3",
   "version": "3.9.6"
  }
 },
 "nbformat": 4,
 "nbformat_minor": 2
}
