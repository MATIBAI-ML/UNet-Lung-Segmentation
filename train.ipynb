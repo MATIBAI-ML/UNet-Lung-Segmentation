{
 "cells": [
  {
   "cell_type": "code",
   "execution_count": 2,
   "metadata": {},
   "outputs": [],
   "source": [
    "import  numpy as np\n",
    "import tensorflow as tf\n",
    "from model import build_model\n",
    "from keras.callbacks import ModelCheckpoint, ReduceLROnPlateau, EarlyStopping"
   ]
  },
  {
   "cell_type": "code",
   "execution_count": null,
   "metadata": {},
   "outputs": [],
   "source": [
    "allImagesNp = np.load(\"folder\\Unet-Train-Lung-Images.npy\")\n",
    "maskImagesNp = np.load(\"folder\\Unet-Train-Lung-Masks.npy\")\n",
    "\n",
    "allValidateImagesNP = np.load(\"folder\\Unet-Validate-Lung-Images.npy\")\n",
    "maskValidateImagesNP = np.load(\"folder\\Unet-Validate-Lung-Masks.npy\")"
   ]
  }
 ],
 "metadata": {
  "kernelspec": {
   "display_name": "Python 3",
   "language": "python",
   "name": "python3"
  },
  "language_info": {
   "codemirror_mode": {
    "name": "ipython",
    "version": 3
   },
   "file_extension": ".py",
   "mimetype": "text/x-python",
   "name": "python",
   "nbconvert_exporter": "python",
   "pygments_lexer": "ipython3",
   "version": "3.9.6"
  }
 },
 "nbformat": 4,
 "nbformat_minor": 2
}
