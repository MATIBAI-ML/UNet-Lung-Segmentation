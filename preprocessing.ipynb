{
 "cells": [
  {
   "cell_type": "code",
   "execution_count": null,
   "metadata": {},
   "outputs": [],
   "source": [
    "import cv2\n",
    "import numpy as np\n",
    "import glob\n",
    "from tqdm import tqdm\n",
    "from sklearn.model_selection import train_test_split\n"
   ]
  },
  {
   "cell_type": "code",
   "execution_count": null,
   "metadata": {},
   "outputs": [],
   "source": [
    "height = 256\n",
    "width = 256"
   ]
  },
  {
   "cell_type": "code",
   "execution_count": null,
   "metadata": {},
   "outputs": [],
   "source": [
    "path = \"MontgomerySet/\"\n",
    "imagesPath = path + \"CXR_png/*.png\"\n",
    "leftMaskPath = path + \"ManualMask/leftMask/*.png\"\n",
    "rightMaskPath = path + \"ManualMask/rightMask/*.png\""
   ]
  },
  {
   "cell_type": "code",
   "execution_count": null,
   "metadata": {},
   "outputs": [],
   "source": [
    "print(\"Images in folder, left mask images, right mask images: \")\n",
    "listOfImages = glob.glob(imagesPath)\n",
    "listOfLeftMaskImages = glob.glob(leftMaskPath)\n",
    "listOfRightMaskImages = glob.glob(rightMaskPath)\n",
    "\n",
    "print(len(listOfImages))\n",
    "print(len(listOfLeftMaskImages))\n",
    "print(len(listOfRightMaskImages))"
   ]
  },
  {
   "cell_type": "code",
   "execution_count": null,
   "metadata": {},
   "outputs": [],
   "source": [
    "img = cv2.imread(listOfImages[0], cv2.IMREAD_COLOR)\n",
    "left_mask = cv2.imread(listOfLeftMaskImages[0], cv2.IMREAD_COLOR)\n",
    "right_mask = cv2.imread(listOfRightMaskImages[0], cv2.IMREAD_COLOR)\n",
    "\n",
    "print(img.shape)"
   ]
  },
  {
   "cell_type": "code",
   "execution_count": null,
   "metadata": {},
   "outputs": [],
   "source": [
    "final_mask = left_mask+right_mask"
   ]
  },
  {
   "cell_type": "code",
   "execution_count": null,
   "metadata": {},
   "outputs": [],
   "source": [
    "cv2.imshow(\"img\", img)\n",
    "cv2.imshow(\"left_mask\", left_mask)\n",
    "cv2.imshow(\"right_mask\", right_mask)\n",
    "cv2.imshow(\"finalmask\", final_mask)"
   ]
  },
  {
   "cell_type": "code",
   "execution_count": null,
   "metadata": {},
   "outputs": [],
   "source": [
    "mask16 = cv2.resize(left_mask, (16,16))\n",
    "print(mask16)"
   ]
  },
  {
   "cell_type": "code",
   "execution_count": null,
   "metadata": {},
   "outputs": [],
   "source": [
    "mask16[mask16>0] = 1\n",
    "print(mask16)"
   ]
  },
  {
   "cell_type": "code",
   "execution_count": null,
   "metadata": {},
   "outputs": [],
   "source": [
    "allImages = []\n",
    "maskImages = []"
   ]
  },
  {
   "cell_type": "code",
   "execution_count": null,
   "metadata": {},
   "outputs": [],
   "source": [
    "print(\"start loading the train images and masks + image augmentation x3\")\n",
    "for imgFile, leftMask, rightMask in tqdm(zip(listOfImages, listOfLeftMaskImages, listOfRightMaskImages), total=len(listOfImages)):\n",
    "    img = cv2.imread(imgFile, cv2.IMREAD_COLOR)\n",
    "    img = cv2.resize(img, (width, height))\n",
    "    img = img / 255.0\n",
    "    img = img.astype(np.float32)\n",
    "    allImages.append(img)\n",
    "    \n",
    "    leftMask = cv2.imread(leftMask, cv2.IMREAD_GRAYSCALE)\n",
    "    rightMask = cv2.imread(rightMask, cv2.IMREAD_GRAYSCALE)\n",
    "    \n",
    "    mask = leftMask+rightMask\n",
    "    mask = cv2.resize(mask, (width, height))\n",
    "    \n",
    "    mask[mask>0] = 1\n",
    "    maskImages.append(rightMask)"
   ]
  },
  {
   "cell_type": "code",
   "execution_count": null,
   "metadata": {},
   "outputs": [],
   "source": [
    "allImagesNP = np.array(allImages)\n",
    "maskImagesNP = np.array(maskImages)\n",
    "maskImagesNP = maskImagesNP.astype(int)"
   ]
  },
  {
   "cell_type": "code",
   "execution_count": null,
   "metadata": {},
   "outputs": [],
   "source": [
    "print(\"Shpaes of train images and masks: \")\n",
    "print(allImagesNP.shape)\n",
    "print(maskImagesNP.shape)"
   ]
  },
  {
   "cell_type": "code",
   "execution_count": null,
   "metadata": {},
   "outputs": [],
   "source": [
    "split = 0.1\n",
    "train_imgs, valid_imgs = train_test_split(allImagesNP, test_size=split, random_state=42)\n",
    "train_masks, valid_masks = train_test_split(maskImagesNP, test_size=split, random_state=42)"
   ]
  },
  {
   "cell_type": "code",
   "execution_count": null,
   "metadata": {},
   "outputs": [],
   "source": [
    "print(\"Shapes of train images and masks: \")\n",
    "print(train_imgs.shape)\n",
    "print(train_masks.shape)\n",
    "print(\"Shapes of validation images and masks: \")\n",
    "print(valid_imgs.shape)\n",
    "print(valid_masks.shape)"
   ]
  },
  {
   "cell_type": "code",
   "execution_count": null,
   "metadata": {},
   "outputs": [],
   "source": [
    "print(\"Save the data: \")\n",
    "np.save(\"data\\Unet-Train-Lung-Images.npy\", train_imgs)\n",
    "np.save(\"data\\Unet-Train-Lung-Masks.npy\", train_masks)\n",
    "\n",
    "np.save(\"data\\Unet-Validate-Lung-Images.npy\", valid_imgs)\n",
    "np.save(\"data\\Unet-Validate-Lung-Masks.npy\", valid_masks)\n",
    "\n",
    "print(\"Finished saving the data\")"
   ]
  }
 ],
 "metadata": {
  "kernelspec": {
   "display_name": "Python 3",
   "language": "python",
   "name": "python3"
  },
  "language_info": {
   "codemirror_mode": {
    "name": "ipython",
    "version": 3
   },
   "file_extension": ".py",
   "mimetype": "text/x-python",
   "name": "python",
   "nbconvert_exporter": "python",
   "pygments_lexer": "ipython3",
   "version": "3.9.6"
  }
 },
 "nbformat": 4,
 "nbformat_minor": 2
}
