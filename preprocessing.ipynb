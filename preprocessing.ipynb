{
 "cells": [
  {
   "cell_type": "code",
   "execution_count": 2,
   "metadata": {},
   "outputs": [],
   "source": [
    "import cv2\n",
    "import numpy as np\n",
    "import glob\n",
    "from tqdm import tqdm\n"
   ]
  },
  {
   "cell_type": "code",
   "execution_count": null,
   "metadata": {},
   "outputs": [],
   "source": [
    "height = 256\n",
    "width = 256"
   ]
  },
  {
   "cell_type": "code",
   "execution_count": null,
   "metadata": {},
   "outputs": [],
   "source": [
    "path = \"MontgomerySet/\"\n",
    "imagesPath = path + \"CXR_png/*.png\"\n",
    "leftMaskPath = path + \"ManualMask/leftMask/*.png\"\n",
    "rightMaskPath = path + \"ManualMask/rightMask/*.png\""
   ]
  },
  {
   "cell_type": "code",
   "execution_count": null,
   "metadata": {},
   "outputs": [],
   "source": [
    "print(\"Images in folder, left mask images, right mask images: \")\n",
    "listOfImages = glob.glob(imagesPath)\n",
    "listOfLeftMaskImages = glob.glob(leftMaskPath)\n",
    "listOfRightMaskImages = glob.glob(rightMaskPath)\n",
    "\n",
    "print(len(listOfImages))\n",
    "print(len(listOfLeftMaskImages))\n",
    "print(len(listOfRightMaskImages))"
   ]
  },
  {
   "cell_type": "code",
   "execution_count": null,
   "metadata": {},
   "outputs": [],
   "source": [
    "img = cv2.imread(listOfImages[0], cv2.IMREAD_COLOR)\n",
    "left_mask = cv2.imread(listOfLeftMaskImages[0], cv2.IMREAD_COLOR)\n",
    "right_mask = cv2.imread(listOfRightMaskImages[0], cv2.IMREAD_COLOR)\n",
    "\n",
    "print(img.shape)"
   ]
  },
  {
   "cell_type": "code",
   "execution_count": null,
   "metadata": {},
   "outputs": [],
   "source": [
    "final_mask = left_mask+right_mask"
   ]
  },
  {
   "cell_type": "code",
   "execution_count": null,
   "metadata": {},
   "outputs": [],
   "source": [
    "cv2.imshow(\"img\", img)\n",
    "cv2.imshow(\"left_mask\", left_mask)\n",
    "cv2.imshow(\"right_mask\", right_mask)\n",
    "cv2.imshow(\"finalmask\", final_mask)"
   ]
  },
  {
   "cell_type": "code",
   "execution_count": null,
   "metadata": {},
   "outputs": [],
   "source": [
    "mask16 = cv2.resize(left_mask, (16,16))\n",
    "print(mask16)"
   ]
  },
  {
   "cell_type": "code",
   "execution_count": null,
   "metadata": {},
   "outputs": [],
   "source": [
    "mask16[mask16>0] = 1\n",
    "print(mask16)"
   ]
  }
 ],
 "metadata": {
  "kernelspec": {
   "display_name": "Python 3",
   "language": "python",
   "name": "python3"
  },
  "language_info": {
   "codemirror_mode": {
    "name": "ipython",
    "version": 3
   },
   "file_extension": ".py",
   "mimetype": "text/x-python",
   "name": "python",
   "nbconvert_exporter": "python",
   "pygments_lexer": "ipython3",
   "version": "3.9.6"
  }
 },
 "nbformat": 4,
 "nbformat_minor": 2
}
